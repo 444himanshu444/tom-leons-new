{
 "cells": [
  {
   "cell_type": "code",
   "execution_count": 1,
   "metadata": {},
   "outputs": [],
   "source": [
    "# GridSerachCV"
   ]
  },
  {
   "cell_type": "code",
   "execution_count": null,
   "metadata": {},
   "outputs": [],
   "source": [
    "from sklearn.model_selection import GridSearchCV\n",
    "from sklearn.metrics import r2_score"
   ]
  },
  {
   "cell_type": "code",
   "execution_count": null,
   "metadata": {},
   "outputs": [],
   "source": [
    "#Random Forest\n",
    "param_grid = [{\"n_estimators\":[3,10,30], \"max_features\":[2,4]} #max features not greater than no.of features in dataset\n",
    "              ,{\"bootstrap\": [False],\"n_estimators\":[3,10],\"max_features\":[2,3,4]},]\n",
    "forest_reg = RandomForestRegressor()\n",
    "grid_search = GridSearchCV(forest_reg,param_grid,cv=5,scoring=\"r2\")\n",
    "grid_search.fit(X_train,y_train)\n",
    "grid_search.best_estimator_ \n",
    "\n",
    "cvres =grid_search.cv_results_ #check grid results with cross val\n",
    "cvres[\"mean_test_score\"].mean()\n",
    "#=0.6817471198015012\n",
    "\n",
    "#feature importance\n",
    "feature_importances = grid_search.best_estimator_.feature_importances_ #extracting feature importance score\n",
    "attributes = list(X_train)   #list of features\n",
    "sorted(zip(feature_importances,attributes),reverse=True) #allocate feature importance for given list\n",
    "\n",
    "#=[(0.49317787918103645, 'CGPA'),\n",
    "# (0.3138924348944129, 'GRE Score'),\n",
    "# (0.16138719048599778, 'TOEFL Score'),\n",
    "# (0.03154249543855304, 'University Rating')]\n",
    "\n",
    "\n",
    "\n",
    "#Creating model with best features\n",
    "final_model = grid_search.best_estimator_\n",
    "final_model.fit(X_test,y_test)\n",
    "r2_score(y_test,predictions)\n",
    "#=0.9655318663406683\n"
   ]
  },
  {
   "cell_type": "code",
   "execution_count": null,
   "metadata": {},
   "outputs": [],
   "source": [
    "#KNN\n",
    "\n",
    "knn = KNeighborsRegressor() # import knn from sklearn.neighbors\n",
    "\n",
    "params = {\"n_neighbors\":np.arange(1,16)}      #setting grid serach parameters\n",
    "\n",
    "knn_cv = GridSearchCV(knn,param_grid=params, cv = 10,scoring=\"r2\")   #using 10 cross validation\n",
    "knn_cv.fit(X,y)                  # applying to dataset\n",
    "best_model = knn_cv.best_estimator_    # gives the details of best parameters\n",
    "knn_cv.best_params_                   # best neighbour(n) value\n",
    "knn_cv.best_score_"
   ]
  },
  {
   "cell_type": "code",
   "execution_count": null,
   "metadata": {},
   "outputs": [],
   "source": [
    "#Decision Tree\n",
    "\n",
    "dtc = DecisionTreeClassifier()\n",
    "params = {\"criterion\":[\"gini\", \"entropy\"],\n",
    "        \"max_depth\":np.arange(1,20), \n",
    "         \"min_samples_split\":np.arange(0.01,0.13, 0.01)}\n",
    "\n",
    "dtc_cv = GridSearchCV(dtc, param_grid=params, cv = 10)\n",
    "dtc_cv.fit(X,y)\n",
    "dtc_cv.best_params_\n",
    "dtc_cv.best_estimator_\n",
    "dtc_cv.best_score_\n",
    "\n",
    "\n"
   ]
  }
 ],
 "metadata": {
  "kernelspec": {
   "display_name": "Python 3",
   "language": "python",
   "name": "python3"
  },
  "language_info": {
   "codemirror_mode": {
    "name": "ipython",
    "version": 3
   },
   "file_extension": ".py",
   "mimetype": "text/x-python",
   "name": "python",
   "nbconvert_exporter": "python",
   "pygments_lexer": "ipython3",
   "version": "3.6.5"
  }
 },
 "nbformat": 4,
 "nbformat_minor": 2
}
