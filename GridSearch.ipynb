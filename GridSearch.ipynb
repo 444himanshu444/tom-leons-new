{
 "cells": [
  {
   "cell_type": "code",
   "execution_count": 1,
   "metadata": {},
   "outputs": [],
   "source": [
    "# GridSerachCV"
   ]
  },
  {
   "cell_type": "code",
   "execution_count": null,
   "metadata": {},
   "outputs": [],
   "source": [
    "from sklearn.model_selection import GridSearchCV"
   ]
  },
  {
   "cell_type": "code",
   "execution_count": null,
   "metadata": {},
   "outputs": [],
   "source": [
    "#KNN\n",
    "\n",
    "knn = KNeighborsRegressor() # import knn from sklearn.neighbors\n",
    "\n",
    "params = {\"n_neighbors\":np.arange(1,16)}      #setting grid serach parameters\n",
    "\n",
    "knn_cv = GridSearchCV(knn,param_grid=params, cv = 10,scoring=\"r2\")   #using 10 cross validation\n",
    "knn_cv.fit(X,y)                  # applying to dataset\n",
    "best_model = knn_cv.best_estimator_    # gives the details of best parameters\n",
    "knn_cv.best_params_                   # best neighbour(n) value\n",
    "knn_cv.best_score_"
   ]
  },
  {
   "cell_type": "code",
   "execution_count": null,
   "metadata": {},
   "outputs": [],
   "source": [
    "#Decision Tree\n",
    "\n",
    "dtc = DecisionTreeClassifier()\n",
    "params = {\"criterion\":[\"gini\", \"entropy\"],\n",
    "        \"max_depth\":np.arange(1,20), \n",
    "         \"min_samples_split\":np.arange(0.01,0.13, 0.01)}\n",
    "\n",
    "dtc_cv = GridSearchCV(dtc, param_grid=params, cv = 10)\n",
    "dtc_cv.fit(X,y)\n",
    "dtc_cv.best_params_\n",
    "dtc_cv.best_estimator_\n",
    "dtc_cv.best_score_\n",
    "\n",
    "\n"
   ]
  }
 ],
 "metadata": {
  "kernelspec": {
   "display_name": "Python 3",
   "language": "python",
   "name": "python3"
  },
  "language_info": {
   "codemirror_mode": {
    "name": "ipython",
    "version": 3
   },
   "file_extension": ".py",
   "mimetype": "text/x-python",
   "name": "python",
   "nbconvert_exporter": "python",
   "pygments_lexer": "ipython3",
   "version": "3.7.0"
  }
 },
 "nbformat": 4,
 "nbformat_minor": 2
}
